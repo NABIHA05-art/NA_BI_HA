{
  "nbformat": 4,
  "nbformat_minor": 0,
  "metadata": {
    "colab": {
      "provenance": []
    },
    "kernelspec": {
      "name": "python3",
      "display_name": "Python 3"
    },
    "language_info": {
      "name": "python"
    }
  },
  "cells": [
    {
      "cell_type": "markdown",
      "source": [
        "JOINING DATAFRAME"
      ],
      "metadata": {
        "id": "GYCltYQlEzjE"
      }
    },
    {
      "cell_type": "code",
      "source": [
        "import pandas as pd\n",
        "data1={'Name':['nick','rose','jack'],\n",
        "       'Dept':['AI','IT','ML']}\n",
        "data2={'Score':[67,48,34],\n",
        "       'age':[15,26,34]}\n",
        "df=pd.DataFrame(data1,index=['k0','k1','k2'])\n",
        "df1=pd.DataFrame(data2,index=['k2','k3','k4'])\n",
        "print(df,\"\\n\\n\",df1)\n",
        "res=df1.join(df)\n",
        "print(res)\n",
        "\n"
      ],
      "metadata": {
        "colab": {
          "base_uri": "https://localhost:8080/"
        },
        "id": "M7He_Y2lE1-t",
        "outputId": "a0cb4ab0-f324-4bbb-bbff-4934cf22e8fb"
      },
      "execution_count": null,
      "outputs": [
        {
          "output_type": "stream",
          "name": "stdout",
          "text": [
            "    Name Dept\n",
            "k0  nick   AI\n",
            "k1  rose   IT\n",
            "k2  jack   ML \n",
            "\n",
            "     Score  age\n",
            "k2     67   15\n",
            "k3     48   26\n",
            "k4     34   34\n",
            "    Score  age  Name Dept\n",
            "k2     67   15  jack   ML\n",
            "k3     48   26   NaN  NaN\n",
            "k4     34   34   NaN  NaN\n"
          ]
        }
      ]
    },
    {
      "cell_type": "code",
      "source": [
        "import pandas as pd\n",
        "data1={'index1':['k0','k1','k2'],\n",
        "       'Name':['nick','rose','jack']}\n",
        "data2={'index2':['k2','k3','k4'],\n",
        "       'Score':[67,48,36]}\n",
        "df=pd.DataFrame(data1)\n",
        "df1=pd.DataFrame(data2)\n",
        "print(df,\"\\n\\n\",df1)\n",
        "res=df.join(df1)\n",
        "print(res)"
      ],
      "metadata": {
        "colab": {
          "base_uri": "https://localhost:8080/"
        },
        "id": "87Dgd3GyHs7G",
        "outputId": "754e32fe-d19a-468e-a3e9-8714b5e1dc4d"
      },
      "execution_count": null,
      "outputs": [
        {
          "output_type": "stream",
          "name": "stdout",
          "text": [
            "  index1  Name\n",
            "0     k0  nick\n",
            "1     k1  rose\n",
            "2     k2  jack \n",
            "\n",
            "   index2  Score\n",
            "0     k2     67\n",
            "1     k3     48\n",
            "2     k4     36\n",
            "  index1  Name index2  Score\n",
            "0     k0  nick     k2     67\n",
            "1     k1  rose     k3     48\n",
            "2     k2  jack     k4     36\n"
          ]
        }
      ]
    },
    {
      "cell_type": "markdown",
      "source": [
        "CONCATENATING DATAFRAME"
      ],
      "metadata": {
        "id": "xlo7c6T8OUXE"
      }
    },
    {
      "cell_type": "code",
      "source": [
        "import pandas as pd\n",
        "data1={'Name':['nick','rose','jack'],\n",
        "       'Dept':['AI','IT','ML']}\n",
        "data2={'Score':[67,48,34],\n",
        "       'age':[15,26,34]}\n",
        "df=pd.DataFrame(data1,index=[0,1,2])\n",
        "df1=pd.DataFrame(data2,index=[3,4,5])\n",
        "print(df,\"\\n\\n\",df1)\n",
        "frames=[df,df1]\n",
        "res=pd.concat(frames)\n",
        "print(res)\n",
        "\n",
        "\n"
      ],
      "metadata": {
        "colab": {
          "base_uri": "https://localhost:8080/"
        },
        "outputId": "dcccd694-be57-42fa-d059-ccf9024ef936",
        "id": "R0p-ZC9gPrZe"
      },
      "execution_count": null,
      "outputs": [
        {
          "output_type": "stream",
          "name": "stdout",
          "text": [
            "   Name Dept\n",
            "0  nick   AI\n",
            "1  rose   IT\n",
            "2  jack   ML \n",
            "\n",
            "    Score  age\n",
            "3     67   15\n",
            "4     48   26\n",
            "5     34   34\n",
            "   Name Dept  Score   age\n",
            "0  nick   AI    NaN   NaN\n",
            "1  rose   IT    NaN   NaN\n",
            "2  jack   ML    NaN   NaN\n",
            "3   NaN  NaN   67.0  15.0\n",
            "4   NaN  NaN   48.0  26.0\n",
            "5   NaN  NaN   34.0  34.0\n"
          ]
        }
      ]
    },
    {
      "cell_type": "markdown",
      "source": [
        "appending dataframes"
      ],
      "metadata": {
        "id": "purTU526Rtyz"
      }
    },
    {
      "cell_type": "code",
      "source": [
        "import pandas as pd\n",
        "data1={'Name':['nick','rose','jack','john'],\n",
        "       'Dept':['AI','IT','ML','DS'],\n",
        "       'Score':[45,98,100,68]}\n",
        "data2={'Name':['joe','noua','ryaan','jublie'],\n",
        "       'dept':['CSE','Mech','Agri','biotech'],\n",
        "       'Score':[67,48,36,58]}\n",
        "df=pd.DataFrame(data1)\n",
        "df1=pd.DataFrame(data2)\n",
        "print(df,\"\\n\\n\",df1)\n",
        "res=pd.concat([df,df1], ignore_index=True)\n",
        "print(res)"
      ],
      "metadata": {
        "colab": {
          "base_uri": "https://localhost:8080/"
        },
        "id": "DDVLrkyzSaF_",
        "outputId": "34dd61b4-e053-4d19-aeb9-fa10392c17b6"
      },
      "execution_count": null,
      "outputs": [
        {
          "output_type": "stream",
          "name": "stdout",
          "text": [
            "   Name Dept  Score\n",
            "0  nick   AI     45\n",
            "1  rose   IT     98\n",
            "2  jack   ML    100\n",
            "3  john   DS     68 \n",
            "\n",
            "      Name     dept  Score\n",
            "0     joe      CSE     67\n",
            "1    noua     Mech     48\n",
            "2   ryaan     Agri     36\n",
            "3  jublie  biotech     58\n",
            "     Name Dept  Score     dept\n",
            "0    nick   AI     45      NaN\n",
            "1    rose   IT     98      NaN\n",
            "2    jack   ML    100      NaN\n",
            "3    john   DS     68      NaN\n",
            "4     joe  NaN     67      CSE\n",
            "5    noua  NaN     48     Mech\n",
            "6   ryaan  NaN     36     Agri\n",
            "7  jublie  NaN     58  biotech\n"
          ]
        }
      ]
    }
  ]
}